{
 "cells": [
  {
   "cell_type": "code",
   "execution_count": 1,
   "metadata": {},
   "outputs": [
    {
     "name": "stderr",
     "output_type": "stream",
     "text": [
      "/Users/wfehre/.local/share/virtualenvs/guido-io-QWE8njdb/lib/python3.7/site-packages/sklearn/externals/six.py:31: FutureWarning: The module is deprecated in version 0.21 and will be removed in version 0.23 since we've dropped support for Python 2.7. Please rely on the official version of six (https://pypi.org/project/six/).\n",
      "  \"(https://pypi.org/project/six/).\", FutureWarning)\n"
     ]
    }
   ],
   "source": [
    "import os\n",
    "os.chdir('../..')\n",
    "from app.ui.debug_view import DebugView\n",
    "from app.overpass.location import Location\n",
    "from app.tour_optimizer.poi import Poi"
   ]
  },
  {
   "cell_type": "code",
   "execution_count": 2,
   "metadata": {},
   "outputs": [
    {
     "data": {
      "application/vnd.jupyter.widget-view+json": {
       "model_id": "63f50257b56144d8964e07a1df9d92f7",
       "version_major": 2,
       "version_minor": 0
      },
      "text/plain": [
       "Map(center=[52.51658085, 13.37575695], controls=(ZoomControl(options=['position', 'zoom_in_text', 'zoom_in_tit…"
      ]
     },
     "metadata": {},
     "output_type": "display_data"
    }
   ],
   "source": [
    "view = DebugView()"
   ]
  },
  {
   "cell_type": "code",
   "execution_count": 5,
   "metadata": {},
   "outputs": [],
   "source": [
    "a = Location(13.3587658, 52.4857809)\n",
    "b = Location(13.412003, 52.522625)\n",
    "\n",
    "view.display_path(a, b)"
   ]
  },
  {
   "cell_type": "code",
   "execution_count": 6,
   "metadata": {},
   "outputs": [
    {
     "name": "stderr",
     "output_type": "stream",
     "text": [
      "[ INFO] - 2020-04-15 21:53:29.887 - root - meters: 2718.87 from: Neukölln [0], to: Schlesi [1]\n",
      "[ INFO] - 2020-04-15 21:53:30.487 - root - meters: 5301.64 from: Neukölln [0], to: Alex [2]\n",
      "[ INFO] - 2020-04-15 21:53:30.944 - root - meters: 4625.13 from: Neukölln [0], to: Charlie [3]\n",
      "[ INFO] - 2020-04-15 21:53:31.072 - root - meters: 2460.10 from: Neukölln [0], to: Kotti [4]\n",
      "[ INFO] - 2020-04-15 21:53:31.323 - root - meters: 3425.72 from: Schlesi [1], to: Alex [2]\n",
      "[ INFO] - 2020-04-15 21:53:31.653 - root - meters: 3821.99 from: Schlesi [1], to: Charlie [3]\n",
      "[ INFO] - 2020-04-15 21:53:31.697 - root - meters: 1672.54 from: Schlesi [1], to: Kotti [4]\n",
      "[ INFO] - 2020-04-15 21:53:31.870 - root - meters: 2581.93 from: Alex [2], to: Charlie [3]\n",
      "[ INFO] - 2020-04-15 21:53:32.084 - root - meters: 2889.95 from: Alex [2], to: Kotti [4]\n",
      "[ INFO] - 2020-04-15 21:53:32.209 - root - meters: 2252.54 from: Charlie [3], to: Kotti [4]\n",
      "[ INFO] - 2020-04-15 21:53:32.209 - root - run randomized optimization algorithm\n"
     ]
    }
   ],
   "source": [
    "neukoelln = Poi(0, 'Neukölln', Location(13.434469, 52.481374))\n",
    "schlesi = Poi(1, 'Schlesi', Location(13.441840, 52.500931))\n",
    "alex = Poi(2, 'Alex', Location(13.412937, 52.521811))\n",
    "charlie = Poi(3, 'Charlie', Location(13.390779, 52.507484))\n",
    "kotti = Poi(4, 'Kotti', Location(13.418210, 52.499224))\n",
    "\n",
    "view.display_tour([neukoelln, schlesi, alex, charlie, kotti])"
   ]
  }
 ],
 "metadata": {
  "kernelspec": {
   "display_name": "guido-io-QWE8njdb",
   "language": "python",
   "name": "guido-io-qwe8njdb"
  },
  "language_info": {
   "codemirror_mode": {
    "name": "ipython",
    "version": 3
   },
   "file_extension": ".py",
   "mimetype": "text/x-python",
   "name": "python",
   "nbconvert_exporter": "python",
   "pygments_lexer": "ipython3",
   "version": "3.7.4"
  }
 },
 "nbformat": 4,
 "nbformat_minor": 4
}
